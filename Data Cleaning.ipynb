{
 "cells": [
  {
   "cell_type": "markdown",
   "metadata": {},
   "source": [
    "# Data Cleaning "
   ]
  },
  {
   "cell_type": "code",
   "execution_count": null,
   "metadata": {},
   "outputs": [],
   "source": [
    "#checking for missing data\n",
    "Data.isnull()\n",
    "sns.heatmap(train.isnull(),yticklabels=False,cbar=False,cmap='viridis')"
   ]
  },
  {
   "cell_type": "code",
   "execution_count": null,
   "metadata": {},
   "outputs": [],
   "source": [
    "#inspect the data for trend and try to drop the colunm whihc has more missing data and fill the data in the column which has few values\n",
    "#for average the column\n",
    "\n",
    "def impute_age(cols):#function is taking a variable\n",
    "    Age = cols[0]#putting columns is equal to variable age column\n",
    "    Pclass = cols[1]#putting respected coulmn in row is equal to varibale \n",
    "    \n",
    "    if pd.isnull(Age):#checking if entry is missing\n",
    "\n",
    "        if Pclass == 1:#putting the reerance value in the missing\n",
    "            return 37\n",
    "\n",
    "        elif Pclass == 2:\n",
    "            return 29\n",
    "\n",
    "        else:\n",
    "            return 24\n",
    "\n",
    "    else:\n",
    "        return Age"
   ]
  },
  {
   "cell_type": "code",
   "execution_count": null,
   "metadata": {},
   "outputs": [],
   "source": [
    "#droping non_usable columns\n",
    "train.drop(\"Cabin\",axis = 1 ,inplace = True)\n",
    "train.drop(['Sex','Embarked','Name','Ticket'],axis=1,inplace=True)#droping muliple columns"
   ]
  },
  {
   "cell_type": "code",
   "execution_count": null,
   "metadata": {},
   "outputs": [],
   "source": [
    "## Converting Categorical Features into numerical for machine learning \n",
    "sex = pd.get_dummies(train[\"Sex\"],drop_first = True) #making dummy data of a male and female only \n",
    "#one column will be output with two catagorical values\n",
    "\n",
    "\n",
    "\n",
    "\n"
   ]
  }
 ],
 "metadata": {
  "kernelspec": {
   "display_name": "Python 2",
   "language": "python",
   "name": "python2"
  },
  "language_info": {
   "codemirror_mode": {
    "name": "ipython",
    "version": 2
   },
   "file_extension": ".py",
   "mimetype": "text/x-python",
   "name": "python",
   "nbconvert_exporter": "python",
   "pygments_lexer": "ipython2",
   "version": "2.7.12"
  }
 },
 "nbformat": 4,
 "nbformat_minor": 2
}
